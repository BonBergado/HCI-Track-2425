{
  "nbformat": 4,
  "nbformat_minor": 0,
  "metadata": {
    "kernelspec": {
      "display_name": "Python 3",
      "language": "python",
      "name": "python3"
    },
    "language_info": {
      "codemirror_mode": {
        "name": "ipython",
        "version": 3
      },
      "file_extension": ".py",
      "mimetype": "text/x-python",
      "name": "python",
      "nbconvert_exporter": "python",
      "pygments_lexer": "ipython3",
      "version": "3.7.7"
    },
    "colab": {
      "provenance": [],
      "include_colab_link": true
    },
    "accelerator": "GPU"
  },
  "cells": [
    {
      "cell_type": "markdown",
      "metadata": {
        "id": "view-in-github",
        "colab_type": "text"
      },
      "source": [
        "<a href=\"https://colab.research.google.com/github/BonBergado/HCI-Track-2425/blob/main/CPE411_Pre_Lab_Python_Challenge.ipynb\" target=\"_parent\"><img src=\"https://colab.research.google.com/assets/colab-badge.svg\" alt=\"Open In Colab\"/></a>"
      ]
    },
    {
      "cell_type": "markdown",
      "metadata": {
        "id": "WUQHSYAH8A15"
      },
      "source": [
        "\n",
        "| <h1> Activity 1.1 </h1> | <h1> Python Challenge </h1> |\n",
        "|--- | --- |\n",
        "Name: Bon Bennet Bergado <br>\n",
        "Course and Section: CPE411S4 <br>\n",
        "Date Submitted: 01/21/25<br>\n",
        "Instructor: Roman Richard\n",
        "Date Performed: 01/21/25\n",
        "Date Submitted 01/21/25\n",
        "\n",
        "<hr>\n",
        "\n",
        "**Instructions**: Answer the questions or complete the tasks outlined below, use the specific method described if applicable. Insert a code cell after each text cell.\n",
        "\n",
        "**Objectives:**\n",
        "- Test understanding of Python basics\n",
        "- Review Python basic to intermediate commands\n",
        "\n",
        "<hr>"
      ]
    },
    {
      "cell_type": "markdown",
      "metadata": {
        "id": "-7dT6HEt8A1_"
      },
      "source": [
        "1. What is 3 to the power of 5?"
      ]
    },
    {
      "cell_type": "code",
      "source": [
        "pow(3,5)"
      ],
      "metadata": {
        "id": "CiAIi_wlM23B",
        "colab": {
          "base_uri": "https://localhost:8080/"
        },
        "outputId": "d7f1fc56-757b-4b35-d2ab-5d12897575eb"
      },
      "execution_count": 7,
      "outputs": [
        {
          "output_type": "execute_result",
          "data": {
            "text/plain": [
              "243"
            ]
          },
          "metadata": {},
          "execution_count": 7
        }
      ]
    },
    {
      "cell_type": "markdown",
      "metadata": {
        "id": "TpUg2QaM8A2C"
      },
      "source": [
        "2.  Create a variable, s, containing the string \"This course is amazing!\". Using the variable, split the string into a list."
      ]
    },
    {
      "cell_type": "code",
      "source": [
        "s = \"This course is amazing!\""
      ],
      "metadata": {
        "id": "AmSwowsTCUwA"
      },
      "execution_count": 1,
      "outputs": []
    },
    {
      "cell_type": "markdown",
      "metadata": {
        "id": "B3yPY5pD8A2D"
      },
      "source": [
        "3.  Given the variables height and mountain, use .format() to print the following string:\n",
        "`The height of Mt. Everest is 8848 meters.`"
      ]
    },
    {
      "cell_type": "code",
      "source": [
        "height = 8848\n",
        "\n",
        "mount_name = \"Mt. Everest\"\n",
        "\n",
        "message = \"The height of {0} is {1} meters.\".format(mount_name,height)\n",
        "print(message) #with external help"
      ],
      "metadata": {
        "id": "AEUyAat6LgfC",
        "colab": {
          "base_uri": "https://localhost:8080/"
        },
        "outputId": "23f22474-a8a3-45c1-84fa-524aba6fe63d"
      },
      "execution_count": 6,
      "outputs": [
        {
          "output_type": "stream",
          "name": "stdout",
          "text": [
            "The height of Mt. Everest is 8848 meters.\n"
          ]
        }
      ]
    },
    {
      "cell_type": "markdown",
      "metadata": {
        "id": "WPFy00ne8A2F"
      },
      "source": [
        "4. Given the following nested list, use indexing to grab the word \"this\".\n",
        "\n",
        "```\n",
        "lst = ['a','b',[4,10,11],['c',[1,66,['this']],2,111],'e',7]\n",
        "```"
      ]
    },
    {
      "cell_type": "code",
      "source": [],
      "metadata": {
        "id": "fwLJcOquLhbZ"
      },
      "execution_count": null,
      "outputs": []
    },
    {
      "cell_type": "markdown",
      "metadata": {
        "id": "cUA9kmWi8A2H"
      },
      "source": [
        "5. Given the following nested dictionary, grab the word \"that\". This exercise is a little more difficult.\n",
        "```\n",
        "d = {'k1':['val1','val2','val3',{'we':['need','to','go',{'deeper':[1,2,3,'that']}]}]}\n",
        "```"
      ]
    },
    {
      "cell_type": "code",
      "source": [],
      "metadata": {
        "id": "Qk1nePu6Lh67"
      },
      "execution_count": null,
      "outputs": []
    },
    {
      "cell_type": "markdown",
      "metadata": {
        "id": "-WrAu-KK8A2I"
      },
      "source": [
        "6. Create a function, GetDomain(), that grabs the email website domain from a string in the form: user@domain.com.\n",
        "So for example, passing \"user@domain.com\" would return: domain.com"
      ]
    },
    {
      "cell_type": "code",
      "source": [
        "gmail = \"abccourse@gmail.com\"\n",
        "\n",
        "a = GetDomain(gmail)\n",
        "\n",
        "print(a)"
      ],
      "metadata": {
        "id": "oK9GYWo7LiE0",
        "colab": {
          "base_uri": "https://localhost:8080/",
          "height": 211
        },
        "outputId": "30ff9dc8-268c-4e6a-cd06-e95e25dadf59"
      },
      "execution_count": 9,
      "outputs": [
        {
          "output_type": "error",
          "ename": "NameError",
          "evalue": "name 'GetDomain' is not defined",
          "traceback": [
            "\u001b[0;31m---------------------------------------------------------------------------\u001b[0m",
            "\u001b[0;31mNameError\u001b[0m                                 Traceback (most recent call last)",
            "\u001b[0;32m<ipython-input-9-d6f27e9959da>\u001b[0m in \u001b[0;36m<cell line: 0>\u001b[0;34m()\u001b[0m\n\u001b[1;32m      1\u001b[0m \u001b[0mgmail\u001b[0m \u001b[0;34m=\u001b[0m \u001b[0;34m\"abccourse@gmail.com\"\u001b[0m\u001b[0;34m\u001b[0m\u001b[0;34m\u001b[0m\u001b[0m\n\u001b[1;32m      2\u001b[0m \u001b[0;34m\u001b[0m\u001b[0m\n\u001b[0;32m----> 3\u001b[0;31m \u001b[0ma\u001b[0m \u001b[0;34m=\u001b[0m \u001b[0mGetDomain\u001b[0m\u001b[0;34m(\u001b[0m\u001b[0mgmail\u001b[0m\u001b[0;34m)\u001b[0m\u001b[0;34m\u001b[0m\u001b[0;34m\u001b[0m\u001b[0m\n\u001b[0m\u001b[1;32m      4\u001b[0m \u001b[0;34m\u001b[0m\u001b[0m\n\u001b[1;32m      5\u001b[0m \u001b[0mprint\u001b[0m\u001b[0;34m(\u001b[0m\u001b[0ma\u001b[0m\u001b[0;34m)\u001b[0m\u001b[0;34m\u001b[0m\u001b[0;34m\u001b[0m\u001b[0m\n",
            "\u001b[0;31mNameError\u001b[0m: name 'GetDomain' is not defined"
          ]
        }
      ]
    },
    {
      "cell_type": "markdown",
      "metadata": {
        "id": "Fx4DIIz18A2K"
      },
      "source": [
        "7. Create a basic function, findInternet(), that returns True if the word 'Internet' is contained in the input string. Don't worry about edge cases like punctuation being attached to the word, but account for capitalization. (Hint: Please see https://docs.python.org/2/reference/expressions.html#in)"
      ]
    },
    {
      "cell_type": "code",
      "source": [],
      "metadata": {
        "id": "a6YVax3wLit8"
      },
      "execution_count": null,
      "outputs": []
    },
    {
      "cell_type": "markdown",
      "metadata": {
        "id": "4pPortmo8A2M"
      },
      "source": [
        "8. Create a function, countIoT(), that counts the number of times the word \"IoT\" occurs in a string. Ignore edge cases but take into account capitalization."
      ]
    },
    {
      "cell_type": "code",
      "source": [],
      "metadata": {
        "id": "WpiXr1LhLjBN"
      },
      "execution_count": null,
      "outputs": []
    },
    {
      "cell_type": "markdown",
      "metadata": {
        "id": "Hg-mqSUd8A2O"
      },
      "source": [
        "9. Use lambda expressions and the filter() function to filter out words from a list that do not start with the letter 'd'. For example:\n",
        "```\n",
        "seq = ['data','salt' ,'dairy','cat', 'dog']\n",
        "```\n",
        "should be filtered down to:\n",
        "```\n",
        "['data', 'dairy', 'dog']\n",
        "```"
      ]
    },
    {
      "cell_type": "code",
      "source": [],
      "metadata": {
        "id": "CCU5G6uQLjzO"
      },
      "execution_count": null,
      "outputs": []
    },
    {
      "cell_type": "markdown",
      "metadata": {
        "id": "i5HTJZtM8A2O"
      },
      "source": [
        "10. Use lambda expressions and the map() function to convert a list of words to upper case. For example:\n",
        "```\n",
        "seq = ['data','salt' ,'dairy','cat', 'dog']\n",
        "```\n",
        "should become:\n",
        "```\n",
        "['DATA', 'SALT', 'DAIRY', 'CAT', 'DOG']\n",
        "```"
      ]
    },
    {
      "cell_type": "code",
      "source": [],
      "metadata": {
        "id": "yF7YxT0QLkJ5"
      },
      "execution_count": null,
      "outputs": []
    },
    {
      "cell_type": "markdown",
      "metadata": {
        "id": "1t6lwmWv8A2Q"
      },
      "source": [
        "11. Imagine a smart thermostat that is connected to the door, so that it can detect, in addition to the temperature, when people enter or leave the house. <br><br>Write a function that, if the temperature is lower than 20 degrees Celsius, and there are people in the house (encoded as a boolean value to be passed as a parameter to the function), turns on the heating by returning the string \"Heating on\". When the temperature reaches 23 degrees or there are no people in the house, it returns the string \"Heating off\". When none of these conditions are met, the function returns \"Do nothing\"."
      ]
    },
    {
      "cell_type": "code",
      "source": [],
      "metadata": {
        "id": "R3scWYwqLkxu"
      },
      "execution_count": null,
      "outputs": []
    },
    {
      "cell_type": "markdown",
      "metadata": {
        "id": "HvZXBwvn8A2S"
      },
      "source": [
        "12. The function zip(list1, list2) returns a list of tuples, where the i-th tuple contains the i-th element from each of the argument lists. Use the zip function to create the following list of tuples: <br>\n",
        "```\n",
        "zipped = [('Parking', -1), ('Shops',0), ('Food Court',1), ('Offices',2)]\n",
        "```"
      ]
    },
    {
      "cell_type": "code",
      "source": [],
      "metadata": {
        "id": "CnXfu-pvLlVY"
      },
      "execution_count": null,
      "outputs": []
    },
    {
      "cell_type": "markdown",
      "metadata": {
        "id": "I25Wddbt8A2U"
      },
      "source": [
        "13. Use the zip function and dict() to create a dictionary, elevator_dict, where the keys are the floor types and the values are the corresponding floor number so that:<br>\n",
        "```\n",
        "elevator_dict[-1] = 'Parking'\n",
        "```"
      ]
    },
    {
      "cell_type": "code",
      "metadata": {
        "id": "aalDO_TQ8A2U"
      },
      "source": [],
      "execution_count": null,
      "outputs": []
    },
    {
      "cell_type": "markdown",
      "metadata": {
        "id": "DXXKXxFv8A2V"
      },
      "source": [
        "14. Create an Elevator class. The constructor accepts the list of strings floor_types and the list of integers floor_numbers. The class implements the methods 'ask_which_floor' and 'go_to_floor'. The output of this methods should look as follows:\n",
        "```\n",
        "floor_types = ['Parking', 'Shops', 'Food Court', 'Offices']\n",
        "floors_numbers = range(-1,4)\n",
        "el = Elevator(floor_numbers, floor_types)\n",
        "el.go_to_floor(1)\n",
        "Going to Food Court floor!\n",
        "el.go_to_floor(-2)\n",
        "There is floor number -2 in this building.\n",
        "el.ask_which_floor('Offices')\n",
        "The floor Offices is the number: 2\n",
        "el.ask_which_floor('Swimming Pool')\n",
        "There is no Swimming Pool floor in this building.\n",
        "```"
      ]
    },
    {
      "cell_type": "code",
      "source": [],
      "metadata": {
        "id": "2X7dzP8lLpT1"
      },
      "execution_count": null,
      "outputs": []
    },
    {
      "cell_type": "markdown",
      "metadata": {
        "id": "a--gPBSR8A2Z"
      },
      "source": [
        "### Good Job!"
      ]
    }
  ]
}